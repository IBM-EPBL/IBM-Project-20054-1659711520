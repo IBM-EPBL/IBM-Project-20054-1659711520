{
  "nbformat": 4,
  "nbformat_minor": 0,
  "metadata": {
    "colab": {
      "provenance": []
    },
    "kernelspec": {
      "name": "python3",
      "display_name": "Python 3"
    },
    "language_info": {
      "name": "python"
    }
  },
  "cells": [
    {
      "cell_type": "markdown",
      "source": [
        "# **Model Building for Vegetable Disease Prediction** 🌿"
      ],
      "metadata": {
        "id": "iyT5h7yiy1H3"
      }
    },
    {
      "cell_type": "code",
      "execution_count": 1,
      "metadata": {
        "id": "VRguryeFpi_v"
      },
      "outputs": [],
      "source": [
        "import cv2\n",
        "import matplotlib.pyplot as plt\n",
        "import numpy as np\n",
        "from keras.preprocessing.image import ImageDataGenerator\n",
        "import os\n",
        "import zipfile\n",
        "import random\n",
        "import shutil\n",
        "import tensorflow as tf\n",
        "from os import getcwd\n",
        "from os import listdir\n",
        "import cv2\n",
        "from keras.layers import Conv2D, Input, ZeroPadding2D, BatchNormalization, Activation, MaxPooling2D, Flatten, Dense\n",
        "from keras.models import Model, load_model\n",
        "from keras.callbacks import TensorBoard, ModelCheckpoint\n",
        "from sklearn.model_selection import train_test_split\n",
        "from keras.utils import load_img , img_to_array\n",
        "import imutils\n",
        "%matplotlib inline"
      ]
    },
    {
      "cell_type": "markdown",
      "source": [
        "Importing data from Drive"
      ],
      "metadata": {
        "id": "0npSI0yBy5H8"
      }
    },
    {
      "cell_type": "code",
      "source": [
        "from google.colab import drive\n",
        "drive.mount('/content/drive')"
      ],
      "metadata": {
        "colab": {
          "base_uri": "https://localhost:8080/"
        },
        "id": "6ePzONUzpprS",
        "outputId": "aa2af9cb-470a-4c11-eee1-492ef4727179"
      },
      "execution_count": 2,
      "outputs": [
        {
          "output_type": "stream",
          "name": "stdout",
          "text": [
            "Mounted at /content/drive\n"
          ]
        }
      ]
    },
    {
      "cell_type": "code",
      "source": [
        "from zipfile import ZipFile\n",
        "file_name = \"/content/drive/MyDrive/Fertilizers_Recommendation_ System_For_Disease_ Prediction.zip\"\n",
        "\n",
        "with ZipFile(file_name, 'r') as zip:\n",
        "  zip.extractall()"
      ],
      "metadata": {
        "id": "QRjCKZGspugN"
      },
      "execution_count": 3,
      "outputs": []
    },
    {
      "cell_type": "markdown",
      "source": [
        "**Image Processing**"
      ],
      "metadata": {
        "id": "IkTWzUldy9-F"
      }
    },
    {
      "cell_type": "code",
      "source": [
        "TRAINING_DIR = \"/content/Dataset Plant Disease/Veg-dataset/Veg-dataset/train_set\"\n",
        "\n",
        "train_datagen = ImageDataGenerator(rescale=1./255,\n",
        "      rotation_range=40,\n",
        "      width_shift_range=0.2,\n",
        "      height_shift_range=0.2,\n",
        "      shear_range=0.2,\n",
        "      zoom_range=0.2,\n",
        "      horizontal_flip=True,\n",
        "      fill_mode='nearest')\n",
        "train_generator = train_datagen.flow_from_directory(TRAINING_DIR,\n",
        "                                                    batch_size=100,\n",
        "                                                    class_mode='binary',\n",
        "                                                    target_size=(150, 150))\n",
        "\n",
        "VALIDATION_DIR = \"/content/Dataset Plant Disease/Veg-dataset/Veg-dataset/test_set\"\n",
        "\n",
        "validation_datagen = ImageDataGenerator(rescale=1./255)\n",
        "validation_generator = validation_datagen.flow_from_directory(VALIDATION_DIR,\n",
        "                                                              batch_size=100,\n",
        "                                                              class_mode='binary',\n",
        "                                                              target_size=(150, 150))"
      ],
      "metadata": {
        "colab": {
          "base_uri": "https://localhost:8080/"
        },
        "id": "0dfQiSE-p3XR",
        "outputId": "158003d5-2ffe-496e-f9c9-a77620b0d629"
      },
      "execution_count": 4,
      "outputs": [
        {
          "output_type": "stream",
          "name": "stdout",
          "text": [
            "Found 11386 images belonging to 9 classes.\n",
            "Found 3416 images belonging to 9 classes.\n"
          ]
        }
      ]
    },
    {
      "cell_type": "code",
      "source": [
        "x_train=train_datagen.flow_from_directory(r\"/content/Dataset Plant Disease/Veg-dataset/Veg-dataset/train_set\",target_size=(128,128),\n",
        "                                        class_mode='categorical',batch_size=24)"
      ],
      "metadata": {
        "colab": {
          "base_uri": "https://localhost:8080/"
        },
        "id": "aosKw8QPqV4m",
        "outputId": "045d24ce-caf9-42b7-fb55-6a437875db7a"
      },
      "execution_count": 5,
      "outputs": [
        {
          "output_type": "stream",
          "name": "stdout",
          "text": [
            "Found 11386 images belonging to 9 classes.\n"
          ]
        }
      ]
    },
    {
      "cell_type": "code",
      "source": [
        "test_datagen=ImageDataGenerator(rescale=1./255)\n",
        "x_test=test_datagen.flow_from_directory(r\"/content/Dataset Plant Disease/Veg-dataset/Veg-dataset/test_set\",target_size=(128,128),\n",
        "                                        class_mode='categorical',batch_size=24)"
      ],
      "metadata": {
        "colab": {
          "base_uri": "https://localhost:8080/"
        },
        "id": "AUJDjkPNqZdW",
        "outputId": "20a235bb-be9b-4036-9a2a-df9bcd435a70"
      },
      "execution_count": 6,
      "outputs": [
        {
          "output_type": "stream",
          "name": "stdout",
          "text": [
            "Found 3416 images belonging to 9 classes.\n"
          ]
        }
      ]
    },
    {
      "cell_type": "code",
      "source": [
        "x_train.class_indices"
      ],
      "metadata": {
        "colab": {
          "base_uri": "https://localhost:8080/"
        },
        "id": "a-eEL5lJqc-r",
        "outputId": "ee7bd6e2-2f98-4d5d-b839-c00e8d0902c4"
      },
      "execution_count": 7,
      "outputs": [
        {
          "output_type": "execute_result",
          "data": {
            "text/plain": [
              "{'Pepper,_bell___Bacterial_spot': 0,\n",
              " 'Pepper,_bell___healthy': 1,\n",
              " 'Potato___Early_blight': 2,\n",
              " 'Potato___Late_blight': 3,\n",
              " 'Potato___healthy': 4,\n",
              " 'Tomato___Bacterial_spot': 5,\n",
              " 'Tomato___Late_blight': 6,\n",
              " 'Tomato___Leaf_Mold': 7,\n",
              " 'Tomato___Septoria_leaf_spot': 8}"
            ]
          },
          "metadata": {},
          "execution_count": 7
        }
      ]
    },
    {
      "cell_type": "markdown",
      "source": [
        "**Training Model**"
      ],
      "metadata": {
        "id": "94TsoS1yzFXq"
      }
    },
    {
      "cell_type": "code",
      "source": [
        "from keras.models import Sequential\n",
        "from keras.layers import Dense,Convolution2D,MaxPooling2D,Flatten\n",
        "model=Sequential()\n",
        "model.add(Convolution2D(32,(3,3),input_shape=(128,128,3),activation='relu'))\n",
        "model.add(MaxPooling2D(pool_size=(2,2)))\n",
        "model.add(Flatten())\n",
        "model.summary()"
      ],
      "metadata": {
        "colab": {
          "base_uri": "https://localhost:8080/"
        },
        "id": "yC2z6XLlqoyu",
        "outputId": "2c968e75-e29e-4f17-f98b-63dfff9d7f00"
      },
      "execution_count": 13,
      "outputs": [
        {
          "output_type": "stream",
          "name": "stdout",
          "text": [
            "Model: \"sequential_1\"\n",
            "_________________________________________________________________\n",
            " Layer (type)                Output Shape              Param #   \n",
            "=================================================================\n",
            " conv2d_1 (Conv2D)           (None, 126, 126, 32)      896       \n",
            "                                                                 \n",
            " max_pooling2d_1 (MaxPooling  (None, 63, 63, 32)       0         \n",
            " 2D)                                                             \n",
            "                                                                 \n",
            " flatten_1 (Flatten)         (None, 127008)            0         \n",
            "                                                                 \n",
            "=================================================================\n",
            "Total params: 896\n",
            "Trainable params: 896\n",
            "Non-trainable params: 0\n",
            "_________________________________________________________________\n"
          ]
        }
      ]
    },
    {
      "cell_type": "code",
      "source": [
        "model.add(Dense(300,activation='relu'))\n",
        "model.add(Dense(150,activation='relu'))"
      ],
      "metadata": {
        "id": "955UZctjqxY_"
      },
      "execution_count": 14,
      "outputs": []
    },
    {
      "cell_type": "code",
      "source": [
        "model.add(Dense(6,activation='softmax'))\n",
        "model.compile(loss='categorical_crossentropy',optimizer='adam',metrics=['accuracy'])\n",
        "len(x_train)"
      ],
      "metadata": {
        "colab": {
          "base_uri": "https://localhost:8080/"
        },
        "id": "3-idKrviq1vu",
        "outputId": "ac6c4786-802c-42f0-95b2-e45bfcfb501f"
      },
      "execution_count": 15,
      "outputs": [
        {
          "output_type": "execute_result",
          "data": {
            "text/plain": [
              "475"
            ]
          },
          "metadata": {},
          "execution_count": 15
        }
      ]
    },
    {
      "cell_type": "code",
      "source": [
        "1238/24"
      ],
      "metadata": {
        "colab": {
          "base_uri": "https://localhost:8080/"
        },
        "id": "3BgjRP3fq5C-",
        "outputId": "0801622f-9f8d-4d4d-8c64-ae069d59ddfc"
      },
      "execution_count": 16,
      "outputs": [
        {
          "output_type": "execute_result",
          "data": {
            "text/plain": [
              "51.583333333333336"
            ]
          },
          "metadata": {},
          "execution_count": 16
        }
      ]
    },
    {
      "cell_type": "markdown",
      "source": [
        "# **Saving the Model**"
      ],
      "metadata": {
        "id": "L8rOxRHhzK4T"
      }
    },
    {
      "cell_type": "code",
      "source": [
        "model.save('vegetable_Disease_Prediction.h5')"
      ],
      "metadata": {
        "id": "6LCj1BhLrQ8L"
      },
      "execution_count": 18,
      "outputs": []
    },
    {
      "cell_type": "markdown",
      "source": [
        "# **Testing the Model**"
      ],
      "metadata": {
        "id": "zLwFyf0tzQ7x"
      }
    },
    {
      "cell_type": "code",
      "source": [
        "import numpy as np\n",
        "from tensorflow.keras.models import load_model\n",
        "from tensorflow.keras.preprocessing import image"
      ],
      "metadata": {
        "id": "VAE13Ou2uCi3"
      },
      "execution_count": 19,
      "outputs": []
    },
    {
      "cell_type": "code",
      "source": [
        "model=load_model('vegetable_Disease_Prediction.h5')"
      ],
      "metadata": {
        "id": "5kbCYn4puHpi"
      },
      "execution_count": 21,
      "outputs": []
    },
    {
      "cell_type": "code",
      "source": [
        "img=image.load_img(r\"/content/Dataset Plant Disease/Veg-dataset/Veg-dataset/test_set/Pepper,_bell___Bacterial_spot/afc76c77-fd2d-4b7f-b1ad-14ba4d5fe297___NREC_B.Spot 9113.JPG\",target_size=(128,128))\n",
        "img"
      ],
      "metadata": {
        "colab": {
          "base_uri": "https://localhost:8080/",
          "height": 145
        },
        "id": "yhR3IeoQuLcZ",
        "outputId": "da94564e-293e-45c0-f680-db02b4638e00"
      },
      "execution_count": 40,
      "outputs": [
        {
          "output_type": "execute_result",
          "data": {
            "text/plain": [
              "<PIL.Image.Image image mode=RGB size=128x128 at 0x7F0288BCB1D0>"
            ],
            "image/png": "[encoded data removed]"
          },
          "metadata": {},
          "execution_count": 40
        }
      ]
    },
    {
      "cell_type": "code",
      "source": [
        "x=image.img_to_array(img)"
      ],
      "metadata": {
        "id": "Jwzq_1xTuhWk"
      },
      "execution_count": 41,
      "outputs": []
    },
    {
      "cell_type": "code",
      "source": [
        "x"
      ],
      "metadata": {
        "colab": {
          "base_uri": "https://localhost:8080/"
        },
        "id": "QgcPDXZHumAC",
        "outputId": "1944ebdc-2815-4873-e76d-284a8493fa20"
      },
      "execution_count": 42,
      "outputs": [
        {
          "output_type": "execute_result",
          "data": {
            "text/plain": [
              "array([[[201., 195., 197.],\n",
              "        [202., 196., 198.],\n",
              "        [199., 193., 195.],\n",
              "        ...,\n",
              "        [182., 176., 178.],\n",
              "        [179., 173., 175.],\n",
              "        [177., 171., 173.]],\n",
              "\n",
              "       [[206., 200., 202.],\n",
              "        [206., 200., 202.],\n",
              "        [202., 196., 198.],\n",
              "        ...,\n",
              "        [178., 172., 174.],\n",
              "        [180., 174., 176.],\n",
              "        [181., 175., 177.]],\n",
              "\n",
              "       [[192., 186., 188.],\n",
              "        [198., 192., 194.],\n",
              "        [211., 205., 207.],\n",
              "        ...,\n",
              "        [180., 174., 176.],\n",
              "        [173., 167., 169.],\n",
              "        [174., 168., 170.]],\n",
              "\n",
              "       ...,\n",
              "\n",
              "       [[147., 135., 137.],\n",
              "        [129., 117., 119.],\n",
              "        [138., 126., 128.],\n",
              "        ...,\n",
              "        [170., 158., 160.],\n",
              "        [114., 102., 104.],\n",
              "        [110.,  98., 100.]],\n",
              "\n",
              "       [[109.,  97.,  99.],\n",
              "        [118., 106., 108.],\n",
              "        [133., 121., 123.],\n",
              "        ...,\n",
              "        [138., 126., 128.],\n",
              "        [140., 128., 130.],\n",
              "        [149., 137., 139.]],\n",
              "\n",
              "       [[134., 122., 124.],\n",
              "        [124., 112., 114.],\n",
              "        [131., 119., 121.],\n",
              "        ...,\n",
              "        [143., 131., 133.],\n",
              "        [116., 104., 106.],\n",
              "        [126., 114., 116.]]], dtype=float32)"
            ]
          },
          "metadata": {},
          "execution_count": 42
        }
      ]
    },
    {
      "cell_type": "code",
      "source": [
        "x=np.expand_dims(x,axis=0)\n",
        "x"
      ],
      "metadata": {
        "colab": {
          "base_uri": "https://localhost:8080/"
        },
        "id": "Mg_MoUIUuoLM",
        "outputId": "97a68257-5d36-4c5f-eff6-e19f7a658787"
      },
      "execution_count": 43,
      "outputs": [
        {
          "output_type": "execute_result",
          "data": {
            "text/plain": [
              "array([[[[201., 195., 197.],\n",
              "         [202., 196., 198.],\n",
              "         [199., 193., 195.],\n",
              "         ...,\n",
              "         [182., 176., 178.],\n",
              "         [179., 173., 175.],\n",
              "         [177., 171., 173.]],\n",
              "\n",
              "        [[206., 200., 202.],\n",
              "         [206., 200., 202.],\n",
              "         [202., 196., 198.],\n",
              "         ...,\n",
              "         [178., 172., 174.],\n",
              "         [180., 174., 176.],\n",
              "         [181., 175., 177.]],\n",
              "\n",
              "        [[192., 186., 188.],\n",
              "         [198., 192., 194.],\n",
              "         [211., 205., 207.],\n",
              "         ...,\n",
              "         [180., 174., 176.],\n",
              "         [173., 167., 169.],\n",
              "         [174., 168., 170.]],\n",
              "\n",
              "        ...,\n",
              "\n",
              "        [[147., 135., 137.],\n",
              "         [129., 117., 119.],\n",
              "         [138., 126., 128.],\n",
              "         ...,\n",
              "         [170., 158., 160.],\n",
              "         [114., 102., 104.],\n",
              "         [110.,  98., 100.]],\n",
              "\n",
              "        [[109.,  97.,  99.],\n",
              "         [118., 106., 108.],\n",
              "         [133., 121., 123.],\n",
              "         ...,\n",
              "         [138., 126., 128.],\n",
              "         [140., 128., 130.],\n",
              "         [149., 137., 139.]],\n",
              "\n",
              "        [[134., 122., 124.],\n",
              "         [124., 112., 114.],\n",
              "         [131., 119., 121.],\n",
              "         ...,\n",
              "         [143., 131., 133.],\n",
              "         [116., 104., 106.],\n",
              "         [126., 114., 116.]]]], dtype=float32)"
            ]
          },
          "metadata": {},
          "execution_count": 43
        }
      ]
    },
    {
      "cell_type": "code",
      "source": [
        "y=np.argmax(model.predict(x),axis=1)"
      ],
      "metadata": {
        "colab": {
          "base_uri": "https://localhost:8080/"
        },
        "id": "tL8MmRMAuscx",
        "outputId": "90029b77-db39-4cec-a0c4-6d7a7cb07168"
      },
      "execution_count": 44,
      "outputs": [
        {
          "output_type": "stream",
          "name": "stdout",
          "text": [
            "1/1 [==============================] - 0s 50ms/step\n"
          ]
        }
      ]
    },
    {
      "cell_type": "code",
      "source": [
        "index=['Pepper,_bell___Bacterial_spot','Pepper,_bell___healthy','Potato___Early_blight','Potato___Late_blight','Potato___healthy','Tomato___Bacterial_spot','Tomato___Late_blight','Tomato___Leaf_Mold','Tomato___Septoria_leaf_spot']"
      ],
      "metadata": {
        "id": "QtlOR76Ouwq2"
      },
      "execution_count": 33,
      "outputs": []
    },
    {
      "cell_type": "code",
      "source": [
        "index[y[0]]"
      ],
      "metadata": {
        "colab": {
          "base_uri": "https://localhost:8080/",
          "height": 35
        },
        "id": "QeH3JvJYvU8_",
        "outputId": "9580ba22-5498-4a9a-f20d-82045a3d59d4"
      },
      "execution_count": 37,
      "outputs": [
        {
          "output_type": "execute_result",
          "data": {
            "text/plain": [
              "'Pepper,_bell___Bacterial_spot'"
            ],
            "application/vnd.google.colaboratory.intrinsic+json": {
              "type": "string"
            }
          },
          "metadata": {},
          "execution_count": 37
        }
      ]
    },
    {
      "cell_type": "code",
      "source": [
        "img=image.load_img(r\"/content/Dataset Plant Disease/Veg-dataset/Veg-dataset/test_set/Pepper,_bell___Bacterial_spot/ae40949c-47ac-49ce-9a5d-00e15fa79d66___NREC_B.Spot 1785.JPG\",target_size=(128,128))\n",
        "x=image.img_to_array(img)\n",
        "x=np.expand_dims(x,axis=0)\n",
        "y=np.argmax(model.predict(x),axis=1)\n",
        "index=['Pepper,_bell___Bacterial_spot','Pepper,_bell___healthy','Potato___Early_blight','Potato___Late_blight','Potato___healthy','Tomato___Bacterial_spot','Tomato___Leaf_Mold','Tomato___Septoria_leaf_spot']\n",
        "index[y[0]]"
      ],
      "metadata": {
        "colab": {
          "base_uri": "https://localhost:8080/",
          "height": 53
        },
        "id": "AlzLc3qRvYxi",
        "outputId": "9b88c1da-017e-4e2d-dd7f-92e92a5b0105"
      },
      "execution_count": 39,
      "outputs": [
        {
          "output_type": "stream",
          "name": "stdout",
          "text": [
            "1/1 [==============================] - 0s 48ms/step\n"
          ]
        },
        {
          "output_type": "execute_result",
          "data": {
            "text/plain": [
              "'Pepper,_bell___Bacterial_spot'"
            ],
            "application/vnd.google.colaboratory.intrinsic+json": {
              "type": "string"
            }
          },
          "metadata": {},
          "execution_count": 39
        }
      ]
    },
    {
      "cell_type": "markdown",
      "source": [
        "# **Predicted output**"
      ],
      "metadata": {
        "id": "wMp-ZOawzXcx"
      }
    },
    {
      "cell_type": "code",
      "source": [
        "img=image.load_img(r\"/content/Dataset Plant Disease/Veg-dataset/Veg-dataset/test_set/Pepper,_bell___Bacterial_spot/ae40949c-47ac-49ce-9a5d-00e15fa79d66___NREC_B.Spot 1785.JPG\",target_size=(128,128))\n",
        "img"
      ],
      "metadata": {
        "colab": {
          "base_uri": "https://localhost:8080/",
          "height": 145
        },
        "id": "ESHpB9HUv9vm",
        "outputId": "f1a9f3b8-c9bd-49aa-dde3-0fba3431fc31"
      },
      "execution_count": 45,
      "outputs": [
        {
          "output_type": "execute_result",
          "data": {
            "text/plain": [
              "<PIL.Image.Image image mode=RGB size=128x128 at 0x7F0288B11190>"
            ],
            "image/png": "[encoded data removed]"
          },
          "metadata": {},
          "execution_count": 45
        }
      ]
    },
    {
      "cell_type": "code",
      "source": [
        "x=image.img_to_array(img)\n",
        "x=np.expand_dims(x,axis=0)\n",
        "y=np.argmax(model.predict(x),axis=1)\n",
        "index=['Pepper,_bell___Bacterial_spot','Pepper,_bell___healthy','Potato___Early_blight','Potato___Late_blight','Potato___healthy','Tomato___Bacterial_spot','Tomato___Leaf_Mold','Tomato___Septoria_leaf_spot']\n",
        "print(\"Predicted Output :  \",index[y[0]])"
      ],
      "metadata": {
        "colab": {
          "base_uri": "https://localhost:8080/"
        },
        "id": "htaKTCY7w2Vq",
        "outputId": "79f82d3f-fe28-46a6-c4aa-1f8901120665"
      },
      "execution_count": 49,
      "outputs": [
        {
          "output_type": "stream",
          "name": "stdout",
          "text": [
            "1/1 [==============================] - 0s 61ms/step\n",
            "Predicted Output :   Pepper,_bell___Bacterial_spot\n"
          ]
        }
      ]
    },
    {
      "cell_type": "code",
      "source": [],
      "metadata": {
        "id": "aOgx3J4pw7_K"
      },
      "execution_count": null,
      "outputs": []
    }
  ]
}